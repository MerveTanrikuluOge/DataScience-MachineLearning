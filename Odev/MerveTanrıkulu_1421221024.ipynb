{
 "cells": [
  {
   "cell_type": "code",
   "execution_count": 1,
   "metadata": {},
   "outputs": [],
   "source": [
    "import pandas as pd # pandas will be referred to as pd below\n",
    "import numpy\n",
    "import matplotlib.pyplot as plt\n",
    "import seaborn\n",
    "%matplotlib inline \n",
    "import warnings\n",
    "warnings.filterwarnings('ignore')"
   ]
  },
  {
   "cell_type": "code",
   "execution_count": 2,
   "metadata": {},
   "outputs": [
    {
     "data": {
      "text/html": [
       "<div>\n",
       "<style scoped>\n",
       "    .dataframe tbody tr th:only-of-type {\n",
       "        vertical-align: middle;\n",
       "    }\n",
       "\n",
       "    .dataframe tbody tr th {\n",
       "        vertical-align: top;\n",
       "    }\n",
       "\n",
       "    .dataframe thead th {\n",
       "        text-align: right;\n",
       "    }\n",
       "</style>\n",
       "<table border=\"1\" class=\"dataframe\">\n",
       "  <thead>\n",
       "    <tr style=\"text-align: right;\">\n",
       "      <th></th>\n",
       "      <th>country</th>\n",
       "      <th>1996</th>\n",
       "      <th>1997</th>\n",
       "      <th>1998</th>\n",
       "      <th>1999</th>\n",
       "      <th>2000</th>\n",
       "      <th>2001</th>\n",
       "      <th>2002</th>\n",
       "      <th>2003</th>\n",
       "      <th>2004</th>\n",
       "      <th>...</th>\n",
       "      <th>2006</th>\n",
       "      <th>2007</th>\n",
       "      <th>2008</th>\n",
       "      <th>2009</th>\n",
       "      <th>2010</th>\n",
       "      <th>2011</th>\n",
       "      <th>2012</th>\n",
       "      <th>2013</th>\n",
       "      <th>2014</th>\n",
       "      <th>2015</th>\n",
       "    </tr>\n",
       "  </thead>\n",
       "  <tbody>\n",
       "    <tr>\n",
       "      <th>0</th>\n",
       "      <td>Albania</td>\n",
       "      <td>NaN</td>\n",
       "      <td>NaN</td>\n",
       "      <td>NaN</td>\n",
       "      <td>NaN</td>\n",
       "      <td>NaN</td>\n",
       "      <td>NaN</td>\n",
       "      <td>NaN</td>\n",
       "      <td>NaN</td>\n",
       "      <td>NaN</td>\n",
       "      <td>...</td>\n",
       "      <td>NaN</td>\n",
       "      <td>0.0873</td>\n",
       "      <td>0.154</td>\n",
       "      <td>NaN</td>\n",
       "      <td>NaN</td>\n",
       "      <td>NaN</td>\n",
       "      <td>NaN</td>\n",
       "      <td>NaN</td>\n",
       "      <td>NaN</td>\n",
       "      <td>NaN</td>\n",
       "    </tr>\n",
       "    <tr>\n",
       "      <th>1</th>\n",
       "      <td>Algeria</td>\n",
       "      <td>NaN</td>\n",
       "      <td>NaN</td>\n",
       "      <td>NaN</td>\n",
       "      <td>NaN</td>\n",
       "      <td>NaN</td>\n",
       "      <td>0.230</td>\n",
       "      <td>0.367</td>\n",
       "      <td>0.196</td>\n",
       "      <td>0.164</td>\n",
       "      <td>...</td>\n",
       "      <td>NaN</td>\n",
       "      <td>NaN</td>\n",
       "      <td>NaN</td>\n",
       "      <td>NaN</td>\n",
       "      <td>NaN</td>\n",
       "      <td>NaN</td>\n",
       "      <td>NaN</td>\n",
       "      <td>NaN</td>\n",
       "      <td>NaN</td>\n",
       "      <td>NaN</td>\n",
       "    </tr>\n",
       "    <tr>\n",
       "      <th>2</th>\n",
       "      <td>Argentina</td>\n",
       "      <td>0.418</td>\n",
       "      <td>0.419</td>\n",
       "      <td>0.411</td>\n",
       "      <td>0.453</td>\n",
       "      <td>0.439</td>\n",
       "      <td>0.424</td>\n",
       "      <td>0.388</td>\n",
       "      <td>0.410</td>\n",
       "      <td>0.404</td>\n",
       "      <td>...</td>\n",
       "      <td>0.45</td>\n",
       "      <td>0.4580</td>\n",
       "      <td>0.470</td>\n",
       "      <td>0.586</td>\n",
       "      <td>0.561</td>\n",
       "      <td>0.566</td>\n",
       "      <td>0.636</td>\n",
       "      <td>0.620</td>\n",
       "      <td>0.589</td>\n",
       "      <td>NaN</td>\n",
       "    </tr>\n",
       "    <tr>\n",
       "      <th>3</th>\n",
       "      <td>Armenia</td>\n",
       "      <td>NaN</td>\n",
       "      <td>0.187</td>\n",
       "      <td>0.226</td>\n",
       "      <td>0.214</td>\n",
       "      <td>0.191</td>\n",
       "      <td>0.279</td>\n",
       "      <td>0.253</td>\n",
       "      <td>0.322</td>\n",
       "      <td>0.256</td>\n",
       "      <td>...</td>\n",
       "      <td>0.24</td>\n",
       "      <td>0.2110</td>\n",
       "      <td>0.224</td>\n",
       "      <td>0.291</td>\n",
       "      <td>0.241</td>\n",
       "      <td>0.270</td>\n",
       "      <td>0.238</td>\n",
       "      <td>0.222</td>\n",
       "      <td>0.241</td>\n",
       "      <td>0.251</td>\n",
       "    </tr>\n",
       "    <tr>\n",
       "      <th>4</th>\n",
       "      <td>Australia</td>\n",
       "      <td>1.660</td>\n",
       "      <td>NaN</td>\n",
       "      <td>1.510</td>\n",
       "      <td>NaN</td>\n",
       "      <td>1.580</td>\n",
       "      <td>NaN</td>\n",
       "      <td>1.750</td>\n",
       "      <td>NaN</td>\n",
       "      <td>1.850</td>\n",
       "      <td>...</td>\n",
       "      <td>2.18</td>\n",
       "      <td>NaN</td>\n",
       "      <td>2.400</td>\n",
       "      <td>NaN</td>\n",
       "      <td>2.380</td>\n",
       "      <td>2.250</td>\n",
       "      <td>NaN</td>\n",
       "      <td>2.200</td>\n",
       "      <td>NaN</td>\n",
       "      <td>NaN</td>\n",
       "    </tr>\n",
       "  </tbody>\n",
       "</table>\n",
       "<p>5 rows × 21 columns</p>\n",
       "</div>"
      ],
      "text/plain": [
       "     country   1996   1997   1998   1999   2000   2001   2002   2003   2004  \\\n",
       "0    Albania    NaN    NaN    NaN    NaN    NaN    NaN    NaN    NaN    NaN   \n",
       "1    Algeria    NaN    NaN    NaN    NaN    NaN  0.230  0.367  0.196  0.164   \n",
       "2  Argentina  0.418  0.419  0.411  0.453  0.439  0.424  0.388  0.410  0.404   \n",
       "3    Armenia    NaN  0.187  0.226  0.214  0.191  0.279  0.253  0.322  0.256   \n",
       "4  Australia  1.660    NaN  1.510    NaN  1.580    NaN  1.750    NaN  1.850   \n",
       "\n",
       "   ...    2006    2007   2008   2009   2010   2011   2012   2013   2014   2015  \n",
       "0  ...     NaN  0.0873  0.154    NaN    NaN    NaN    NaN    NaN    NaN    NaN  \n",
       "1  ...     NaN     NaN    NaN    NaN    NaN    NaN    NaN    NaN    NaN    NaN  \n",
       "2  ...    0.45  0.4580  0.470  0.586  0.561  0.566  0.636  0.620  0.589    NaN  \n",
       "3  ...    0.24  0.2110  0.224  0.291  0.241  0.270  0.238  0.222  0.241  0.251  \n",
       "4  ...    2.18     NaN  2.400    NaN  2.380  2.250    NaN  2.200    NaN    NaN  \n",
       "\n",
       "[5 rows x 21 columns]"
      ]
     },
     "execution_count": 2,
     "metadata": {},
     "output_type": "execute_result"
    }
   ],
   "source": [
    "data_Expenditure= pd.read_csv('gdp.csv')\n",
    "data_Expenditure.head()"
   ]
  },
  {
   "cell_type": "code",
   "execution_count": 3,
   "metadata": {},
   "outputs": [
    {
     "data": {
      "text/html": [
       "<div>\n",
       "<style scoped>\n",
       "    .dataframe tbody tr th:only-of-type {\n",
       "        vertical-align: middle;\n",
       "    }\n",
       "\n",
       "    .dataframe tbody tr th {\n",
       "        vertical-align: top;\n",
       "    }\n",
       "\n",
       "    .dataframe thead th {\n",
       "        text-align: right;\n",
       "    }\n",
       "</style>\n",
       "<table border=\"1\" class=\"dataframe\">\n",
       "  <thead>\n",
       "    <tr style=\"text-align: right;\">\n",
       "      <th></th>\n",
       "      <th>country</th>\n",
       "      <th>1960</th>\n",
       "      <th>1961</th>\n",
       "      <th>1962</th>\n",
       "      <th>1963</th>\n",
       "      <th>1964</th>\n",
       "      <th>1965</th>\n",
       "      <th>1966</th>\n",
       "      <th>1967</th>\n",
       "      <th>1968</th>\n",
       "      <th>...</th>\n",
       "      <th>2008</th>\n",
       "      <th>2009</th>\n",
       "      <th>2010</th>\n",
       "      <th>2011</th>\n",
       "      <th>2012</th>\n",
       "      <th>2013</th>\n",
       "      <th>2014</th>\n",
       "      <th>2015</th>\n",
       "      <th>2016</th>\n",
       "      <th>2017</th>\n",
       "    </tr>\n",
       "  </thead>\n",
       "  <tbody>\n",
       "    <tr>\n",
       "      <th>0</th>\n",
       "      <td>Afghanistan</td>\n",
       "      <td>NaN</td>\n",
       "      <td>NaN</td>\n",
       "      <td>NaN</td>\n",
       "      <td>NaN</td>\n",
       "      <td>NaN</td>\n",
       "      <td>NaN</td>\n",
       "      <td>NaN</td>\n",
       "      <td>NaN</td>\n",
       "      <td>NaN</td>\n",
       "      <td>...</td>\n",
       "      <td>1.84</td>\n",
       "      <td>3.55</td>\n",
       "      <td>4.0</td>\n",
       "      <td>5.0</td>\n",
       "      <td>5.45</td>\n",
       "      <td>5.9</td>\n",
       "      <td>7.0</td>\n",
       "      <td>8.26</td>\n",
       "      <td>10.6</td>\n",
       "      <td>NaN</td>\n",
       "    </tr>\n",
       "    <tr>\n",
       "      <th>1</th>\n",
       "      <td>Albania</td>\n",
       "      <td>NaN</td>\n",
       "      <td>NaN</td>\n",
       "      <td>NaN</td>\n",
       "      <td>NaN</td>\n",
       "      <td>NaN</td>\n",
       "      <td>NaN</td>\n",
       "      <td>NaN</td>\n",
       "      <td>NaN</td>\n",
       "      <td>NaN</td>\n",
       "      <td>...</td>\n",
       "      <td>23.90</td>\n",
       "      <td>41.20</td>\n",
       "      <td>45.0</td>\n",
       "      <td>49.0</td>\n",
       "      <td>54.70</td>\n",
       "      <td>57.2</td>\n",
       "      <td>60.1</td>\n",
       "      <td>63.30</td>\n",
       "      <td>66.4</td>\n",
       "      <td>NaN</td>\n",
       "    </tr>\n",
       "    <tr>\n",
       "      <th>2</th>\n",
       "      <td>Algeria</td>\n",
       "      <td>NaN</td>\n",
       "      <td>NaN</td>\n",
       "      <td>NaN</td>\n",
       "      <td>NaN</td>\n",
       "      <td>NaN</td>\n",
       "      <td>NaN</td>\n",
       "      <td>NaN</td>\n",
       "      <td>NaN</td>\n",
       "      <td>NaN</td>\n",
       "      <td>...</td>\n",
       "      <td>10.20</td>\n",
       "      <td>11.20</td>\n",
       "      <td>12.5</td>\n",
       "      <td>14.9</td>\n",
       "      <td>18.20</td>\n",
       "      <td>22.5</td>\n",
       "      <td>29.5</td>\n",
       "      <td>38.20</td>\n",
       "      <td>42.9</td>\n",
       "      <td>NaN</td>\n",
       "    </tr>\n",
       "    <tr>\n",
       "      <th>3</th>\n",
       "      <td>Andorra</td>\n",
       "      <td>NaN</td>\n",
       "      <td>NaN</td>\n",
       "      <td>NaN</td>\n",
       "      <td>NaN</td>\n",
       "      <td>NaN</td>\n",
       "      <td>NaN</td>\n",
       "      <td>NaN</td>\n",
       "      <td>NaN</td>\n",
       "      <td>NaN</td>\n",
       "      <td>...</td>\n",
       "      <td>70.00</td>\n",
       "      <td>78.50</td>\n",
       "      <td>81.0</td>\n",
       "      <td>81.0</td>\n",
       "      <td>86.40</td>\n",
       "      <td>94.0</td>\n",
       "      <td>95.9</td>\n",
       "      <td>96.90</td>\n",
       "      <td>97.9</td>\n",
       "      <td>NaN</td>\n",
       "    </tr>\n",
       "    <tr>\n",
       "      <th>4</th>\n",
       "      <td>Angola</td>\n",
       "      <td>NaN</td>\n",
       "      <td>NaN</td>\n",
       "      <td>NaN</td>\n",
       "      <td>NaN</td>\n",
       "      <td>NaN</td>\n",
       "      <td>NaN</td>\n",
       "      <td>NaN</td>\n",
       "      <td>NaN</td>\n",
       "      <td>NaN</td>\n",
       "      <td>...</td>\n",
       "      <td>1.90</td>\n",
       "      <td>2.30</td>\n",
       "      <td>2.8</td>\n",
       "      <td>3.1</td>\n",
       "      <td>6.50</td>\n",
       "      <td>8.9</td>\n",
       "      <td>10.2</td>\n",
       "      <td>12.40</td>\n",
       "      <td>13.0</td>\n",
       "      <td>NaN</td>\n",
       "    </tr>\n",
       "  </tbody>\n",
       "</table>\n",
       "<p>5 rows × 59 columns</p>\n",
       "</div>"
      ],
      "text/plain": [
       "       country  1960  1961  1962  1963  1964  1965  1966  1967  1968  ...   \\\n",
       "0  Afghanistan   NaN   NaN   NaN   NaN   NaN   NaN   NaN   NaN   NaN  ...    \n",
       "1      Albania   NaN   NaN   NaN   NaN   NaN   NaN   NaN   NaN   NaN  ...    \n",
       "2      Algeria   NaN   NaN   NaN   NaN   NaN   NaN   NaN   NaN   NaN  ...    \n",
       "3      Andorra   NaN   NaN   NaN   NaN   NaN   NaN   NaN   NaN   NaN  ...    \n",
       "4       Angola   NaN   NaN   NaN   NaN   NaN   NaN   NaN   NaN   NaN  ...    \n",
       "\n",
       "    2008   2009  2010  2011   2012  2013  2014   2015  2016  2017  \n",
       "0   1.84   3.55   4.0   5.0   5.45   5.9   7.0   8.26  10.6   NaN  \n",
       "1  23.90  41.20  45.0  49.0  54.70  57.2  60.1  63.30  66.4   NaN  \n",
       "2  10.20  11.20  12.5  14.9  18.20  22.5  29.5  38.20  42.9   NaN  \n",
       "3  70.00  78.50  81.0  81.0  86.40  94.0  95.9  96.90  97.9   NaN  \n",
       "4   1.90   2.30   2.8   3.1   6.50   8.9  10.2  12.40  13.0   NaN  \n",
       "\n",
       "[5 rows x 59 columns]"
      ]
     },
     "execution_count": 3,
     "metadata": {},
     "output_type": "execute_result"
    }
   ],
   "source": [
    "data_Users= pd.read_csv('users.csv')\n",
    "data_Users.head()"
   ]
  },
  {
   "cell_type": "code",
   "execution_count": 4,
   "metadata": {},
   "outputs": [
    {
     "data": {
      "text/plain": [
       "Index(['country', '1996', '1997', '1998', '1999', '2000', '2001', '2002',\n",
       "       '2003', '2004', '2005', '2006', '2007', '2008', '2009', '2010', '2011',\n",
       "       '2012', '2013', '2014', '2015', '2016', '2017'],\n",
       "      dtype='object')"
      ]
     },
     "execution_count": 4,
     "metadata": {},
     "output_type": "execute_result"
    }
   ],
   "source": [
    "columns_1 = ['country','1996', '1997', '1998', '1999', '2000', '2001', '2002',\n",
    "       '2003', '2004', '2005', '2006', '2007', '2008', '2009', '2010', '2011',\n",
    "       '2012', '2013', '2014', '2015', '2016', '2017']\n",
    "data_Users = data_Users.loc[:,columns_1]\n",
    "data_Users.columns"
   ]
  },
  {
   "cell_type": "code",
   "execution_count": 5,
   "metadata": {},
   "outputs": [
    {
     "name": "stdout",
     "output_type": "stream",
     "text": [
      "Expenditure original length: 132\n",
      "Expenditure new length: 29\n"
     ]
    }
   ],
   "source": [
    "print('Expenditure original length: '+ str(len(data_Expenditure)))\n",
    "data_Expenditure_NoMissing= data_Expenditure.dropna()\n",
    "print('Expenditure new length: '+ str(len(data_Expenditure_NoMissing)))"
   ]
  },
  {
   "cell_type": "code",
   "execution_count": 6,
   "metadata": {},
   "outputs": [
    {
     "name": "stdout",
     "output_type": "stream",
     "text": [
      "Users original length: 194\n",
      "Users new length: 62\n"
     ]
    }
   ],
   "source": [
    "print('Users original length: '+ str(len(data_Users)))\n",
    "data_Users_NoMissing= data_Users.dropna()\n",
    "print('Users new length: '+ str(len(data_Users_NoMissing)))"
   ]
  },
  {
   "cell_type": "code",
   "execution_count": 7,
   "metadata": {},
   "outputs": [
    {
     "data": {
      "text/html": [
       "<div>\n",
       "<style scoped>\n",
       "    .dataframe tbody tr th:only-of-type {\n",
       "        vertical-align: middle;\n",
       "    }\n",
       "\n",
       "    .dataframe tbody tr th {\n",
       "        vertical-align: top;\n",
       "    }\n",
       "\n",
       "    .dataframe thead th {\n",
       "        text-align: right;\n",
       "    }\n",
       "</style>\n",
       "<table border=\"1\" class=\"dataframe\">\n",
       "  <thead>\n",
       "    <tr style=\"text-align: right;\">\n",
       "      <th></th>\n",
       "      <th>country</th>\n",
       "      <th>year</th>\n",
       "      <th>users</th>\n",
       "    </tr>\n",
       "  </thead>\n",
       "  <tbody>\n",
       "    <tr>\n",
       "      <th>0</th>\n",
       "      <td>Albania</td>\n",
       "      <td>1996</td>\n",
       "      <td>NaN</td>\n",
       "    </tr>\n",
       "    <tr>\n",
       "      <th>1</th>\n",
       "      <td>Algeria</td>\n",
       "      <td>1996</td>\n",
       "      <td>NaN</td>\n",
       "    </tr>\n",
       "    <tr>\n",
       "      <th>2</th>\n",
       "      <td>Argentina</td>\n",
       "      <td>1996</td>\n",
       "      <td>0.418</td>\n",
       "    </tr>\n",
       "    <tr>\n",
       "      <th>3</th>\n",
       "      <td>Armenia</td>\n",
       "      <td>1996</td>\n",
       "      <td>NaN</td>\n",
       "    </tr>\n",
       "    <tr>\n",
       "      <th>4</th>\n",
       "      <td>Australia</td>\n",
       "      <td>1996</td>\n",
       "      <td>1.660</td>\n",
       "    </tr>\n",
       "  </tbody>\n",
       "</table>\n",
       "</div>"
      ],
      "text/plain": [
       "     country  year  users\n",
       "0    Albania  1996    NaN\n",
       "1    Algeria  1996    NaN\n",
       "2  Argentina  1996  0.418\n",
       "3    Armenia  1996    NaN\n",
       "4  Australia  1996  1.660"
      ]
     },
     "execution_count": 7,
     "metadata": {},
     "output_type": "execute_result"
    }
   ],
   "source": [
    "column_1 =['1996', '1997', '1998', '1999', '2000', '2001', '2002', '2003', '2004',\n",
    "       '2005', '2006', '2007', '2008', '2009', '2010', '2011', '2012', '2013',\n",
    "       '2014', '2015', '2016', '2017']\n",
    "data_Expenditure=pd.melt(data_Expenditure, id_vars='country', value_vars=column_1, var_name='year', value_name = 'users')\n",
    "data_Expenditure.head()"
   ]
  },
  {
   "cell_type": "code",
   "execution_count": 8,
   "metadata": {},
   "outputs": [
    {
     "data": {
      "text/html": [
       "<div>\n",
       "<style scoped>\n",
       "    .dataframe tbody tr th:only-of-type {\n",
       "        vertical-align: middle;\n",
       "    }\n",
       "\n",
       "    .dataframe tbody tr th {\n",
       "        vertical-align: top;\n",
       "    }\n",
       "\n",
       "    .dataframe thead th {\n",
       "        text-align: right;\n",
       "    }\n",
       "</style>\n",
       "<table border=\"1\" class=\"dataframe\">\n",
       "  <thead>\n",
       "    <tr style=\"text-align: right;\">\n",
       "      <th></th>\n",
       "      <th>country</th>\n",
       "      <th>year</th>\n",
       "      <th>expenditure</th>\n",
       "    </tr>\n",
       "  </thead>\n",
       "  <tbody>\n",
       "    <tr>\n",
       "      <th>0</th>\n",
       "      <td>Afghanistan</td>\n",
       "      <td>1996</td>\n",
       "      <td>NaN</td>\n",
       "    </tr>\n",
       "    <tr>\n",
       "      <th>1</th>\n",
       "      <td>Albania</td>\n",
       "      <td>1996</td>\n",
       "      <td>0.03220</td>\n",
       "    </tr>\n",
       "    <tr>\n",
       "      <th>2</th>\n",
       "      <td>Algeria</td>\n",
       "      <td>1996</td>\n",
       "      <td>0.00174</td>\n",
       "    </tr>\n",
       "    <tr>\n",
       "      <th>3</th>\n",
       "      <td>Andorra</td>\n",
       "      <td>1996</td>\n",
       "      <td>1.53000</td>\n",
       "    </tr>\n",
       "    <tr>\n",
       "      <th>4</th>\n",
       "      <td>Angola</td>\n",
       "      <td>1996</td>\n",
       "      <td>0.00078</td>\n",
       "    </tr>\n",
       "  </tbody>\n",
       "</table>\n",
       "</div>"
      ],
      "text/plain": [
       "       country  year  expenditure\n",
       "0  Afghanistan  1996          NaN\n",
       "1      Albania  1996      0.03220\n",
       "2      Algeria  1996      0.00174\n",
       "3      Andorra  1996      1.53000\n",
       "4       Angola  1996      0.00078"
      ]
     },
     "execution_count": 8,
     "metadata": {},
     "output_type": "execute_result"
    }
   ],
   "source": [
    "data_Users=pd.melt(data_Users, id_vars='country', value_vars=column_1, var_name='year', value_name = 'expenditure')\n",
    "data_Users.head()"
   ]
  },
  {
   "cell_type": "code",
   "execution_count": 9,
   "metadata": {},
   "outputs": [
    {
     "data": {
      "text/html": [
       "<div>\n",
       "<style scoped>\n",
       "    .dataframe tbody tr th:only-of-type {\n",
       "        vertical-align: middle;\n",
       "    }\n",
       "\n",
       "    .dataframe tbody tr th {\n",
       "        vertical-align: top;\n",
       "    }\n",
       "\n",
       "    .dataframe thead th {\n",
       "        text-align: right;\n",
       "    }\n",
       "</style>\n",
       "<table border=\"1\" class=\"dataframe\">\n",
       "  <thead>\n",
       "    <tr style=\"text-align: right;\">\n",
       "      <th></th>\n",
       "      <th>country</th>\n",
       "      <th>year</th>\n",
       "      <th>expenditure</th>\n",
       "      <th>user</th>\n",
       "    </tr>\n",
       "  </thead>\n",
       "  <tbody>\n",
       "    <tr>\n",
       "      <th>0</th>\n",
       "      <td>Austria</td>\n",
       "      <td>1996</td>\n",
       "      <td>1.590</td>\n",
       "      <td>6.9100</td>\n",
       "    </tr>\n",
       "    <tr>\n",
       "      <th>1</th>\n",
       "      <td>Belgium</td>\n",
       "      <td>1996</td>\n",
       "      <td>1.730</td>\n",
       "      <td>2.9700</td>\n",
       "    </tr>\n",
       "    <tr>\n",
       "      <th>2</th>\n",
       "      <td>Bulgaria</td>\n",
       "      <td>1996</td>\n",
       "      <td>0.509</td>\n",
       "      <td>0.7250</td>\n",
       "    </tr>\n",
       "    <tr>\n",
       "      <th>3</th>\n",
       "      <td>China</td>\n",
       "      <td>1996</td>\n",
       "      <td>0.563</td>\n",
       "      <td>0.0131</td>\n",
       "    </tr>\n",
       "    <tr>\n",
       "      <th>4</th>\n",
       "      <td>Czech Republic</td>\n",
       "      <td>1996</td>\n",
       "      <td>0.899</td>\n",
       "      <td>1.9400</td>\n",
       "    </tr>\n",
       "  </tbody>\n",
       "</table>\n",
       "</div>"
      ],
      "text/plain": [
       "          country  year  expenditure    user\n",
       "0         Austria  1996        1.590  6.9100\n",
       "1         Belgium  1996        1.730  2.9700\n",
       "2        Bulgaria  1996        0.509  0.7250\n",
       "3           China  1996        0.563  0.0131\n",
       "4  Czech Republic  1996        0.899  1.9400"
      ]
     },
     "execution_count": 9,
     "metadata": {},
     "output_type": "execute_result"
    }
   ],
   "source": [
    "data_Expenditure_NoMissing = pd.melt(data_Expenditure_NoMissing, id_vars='country', value_vars=column_1, var_name='year', value_name = 'expenditure')\n",
    "data_Users_NoMissing = pd.melt(data_Users_NoMissing, id_vars='country', value_vars=column_1, var_name='year', value_name = 'user')\n",
    "data = pd.merge(left= data_Expenditure_NoMissing, right= data_Users_NoMissing)\n",
    "data.head(5)"
   ]
  },
  {
   "cell_type": "code",
   "execution_count": 10,
   "metadata": {},
   "outputs": [
    {
     "name": "stdout",
     "output_type": "stream",
     "text": [
      "Data length: 528\n"
     ]
    }
   ],
   "source": [
    "print('Data length: '+ str(len(data)))"
   ]
  },
  {
   "cell_type": "code",
   "execution_count": 11,
   "metadata": {},
   "outputs": [
    {
     "data": {
      "text/plain": [
       "Int64Index([  0,   1,   2,   3,   4,   5,   6,   7,   8,   9,\n",
       "            ...\n",
       "            518, 519, 520, 521, 522, 523, 524, 525, 526, 527],\n",
       "           dtype='int64', length=528)"
      ]
     },
     "execution_count": 11,
     "metadata": {},
     "output_type": "execute_result"
    }
   ],
   "source": [
    "data.index"
   ]
  },
  {
   "cell_type": "code",
   "execution_count": 55,
   "metadata": {},
   "outputs": [
    {
     "name": "stdout",
     "output_type": "stream",
     "text": [
      "480\n",
      "480\n",
      "480\n"
     ]
    }
   ],
   "source": [
    "data['year']= pd.to_numeric(data['year'])\n",
    "data['expenditure']= pd.to_numeric(data['expenditure'])\n",
    "data['user']= pd.to_numeric(data['user'])\n",
    "print(len(data['year']))\n",
    "print(len(data['expenditure']))\n",
    "print(len(data['user']))"
   ]
  },
  {
   "cell_type": "code",
   "execution_count": 13,
   "metadata": {},
   "outputs": [
    {
     "name": "stdout",
     "output_type": "stream",
     "text": [
      "Italy        22\n",
      "Finland      22\n",
      "China        22\n",
      "Lithuania    22\n",
      "Slovenia     22\n",
      "Name: country, dtype: int64\n",
      "\n",
      "Italy        0.041667\n",
      "Finland      0.041667\n",
      "China        0.041667\n",
      "Lithuania    0.041667\n",
      "Slovenia     0.041667\n",
      "Name: country, dtype: float64\n",
      "\n",
      "Number of Different Areas: 24\n",
      "Number of observations for the Area column:528\n"
     ]
    }
   ],
   "source": [
    "countArea= data['country'].value_counts(sort= True, ascending=False, dropna=False)\n",
    "print(countArea.head(5))\n",
    "print()\n",
    "perArea= data['country'].value_counts(sort= True, ascending=False, dropna=False, normalize=True)\n",
    "print(perArea.head(5))\n",
    "print()\n",
    "print ('Number of Different Areas: '+ str(len(countArea)))\n",
    "print ('Number of observations for the Area column:'+ str(len(data['country'])))"
   ]
  },
  {
   "cell_type": "code",
   "execution_count": 14,
   "metadata": {},
   "outputs": [
    {
     "name": "stdout",
     "output_type": "stream",
     "text": [
      "Year ranges from 1996 and to 2017\n",
      "1996    24\n",
      "1997    24\n",
      "1998    24\n",
      "1999    24\n",
      "2000    24\n",
      "Name: year, dtype: int64\n",
      "1996    0.045455\n",
      "1997    0.045455\n",
      "1998    0.045455\n",
      "1999    0.045455\n",
      "2000    0.045455\n",
      "Name: year, dtype: float64\n",
      "Number of Different Years: 22\n"
     ]
    }
   ],
   "source": [
    "print ('Year ranges from '+ str(data['year'].min())+' and to '+ str(data['year'].max()) )\n",
    "countYear= data['year'].value_counts(sort= False, dropna=False)\n",
    "print(countYear.head())\n",
    "perYear= data['year'].value_counts(sort= False, dropna=False, normalize=True)\n",
    "print(perYear.head(5))\n",
    "print ('Number of Different Years: '+ str(len(countYear)))"
   ]
  },
  {
   "cell_type": "code",
   "execution_count": 15,
   "metadata": {},
   "outputs": [
    {
     "name": "stdout",
     "output_type": "stream",
     "text": [
      "1.250    4\n",
      "1.000    3\n",
      "3.250    2\n",
      "2.000    2\n",
      "0.375    1\n",
      "Name: expenditure, dtype: int64\n",
      "1.250    0.007576\n",
      "1.000    0.005682\n",
      "3.250    0.003788\n",
      "2.000    0.003788\n",
      "0.375    0.001894\n",
      "Name: expenditure, dtype: float64\n",
      "Number of Different Expenditure values: 333\n"
     ]
    }
   ],
   "source": [
    "countExpenditure= data['expenditure'].value_counts(sort= False, dropna=False) \n",
    "# dropna=False  required, otherwise python does not show mising values\n",
    "\n",
    "print(countExpenditure.head(5))\n",
    "perExpenditure= data['expenditure'].value_counts(sort= False, dropna=False, normalize=True)\n",
    "print(perExpenditure.head(5))\n",
    "print ('Number of Different Expenditure values: '+ str(len(countExpenditure)))"
   ]
  },
  {
   "cell_type": "code",
   "execution_count": 16,
   "metadata": {},
   "outputs": [
    {
     "name": "stdout",
     "output_type": "stream",
     "text": [
      "19.50    2\n",
      "4.25     1\n",
      "25.50    1\n",
      "23.00    1\n",
      "7.00     1\n",
      "Name: user, dtype: int64\n",
      "19.50    0.003788\n",
      "4.25     0.001894\n",
      "25.50    0.001894\n",
      "23.00    0.001894\n",
      "7.00     0.001894\n",
      "Name: user, dtype: float64\n",
      "Number of Different user rates: 428\n"
     ]
    }
   ],
   "source": [
    "countUser= data['user'].value_counts(sort= False, dropna=False)\n",
    "print(countUser.head(5))\n",
    "perUser= data['user'].value_counts(sort= False, dropna=False, normalize=True)\n",
    "print(perUser.head(5))\n",
    "print ('Number of Different user rates: '+ str(len(countUser)))"
   ]
  },
  {
   "cell_type": "code",
   "execution_count": 17,
   "metadata": {},
   "outputs": [
    {
     "name": "stdout",
     "output_type": "stream",
     "text": [
      "Lenghth of the new dataframe: 480\n"
     ]
    }
   ],
   "source": [
    "data= data.dropna(subset =['expenditure','user'], how='any')\n",
    "\n",
    "data= data.reset_index(drop=True) # not to save old index as a column\n",
    "print('Lenghth of the new dataframe: '+str(len(data)))"
   ]
  },
  {
   "cell_type": "code",
   "execution_count": 18,
   "metadata": {},
   "outputs": [
    {
     "name": "stdout",
     "output_type": "stream",
     "text": [
      "Expenditure ranges from 0.259 and to 4.41\n"
     ]
    },
    {
     "data": {
      "text/plain": [
       "count    480.000000\n",
       "mean       1.571331\n",
       "std        1.025718\n",
       "min        0.259000\n",
       "25%        0.681250\n",
       "50%        1.255000\n",
       "75%        2.210000\n",
       "max        4.410000\n",
       "Name: expenditure, dtype: float64"
      ]
     },
     "execution_count": 18,
     "metadata": {},
     "output_type": "execute_result"
    }
   ],
   "source": [
    "print ('Expenditure ranges from '+ str(data['expenditure'].min())+' and to '+ str(data['expenditure'].max()) )\n",
    "data['expenditure'].describe()"
   ]
  },
  {
   "cell_type": "code",
   "execution_count": 19,
   "metadata": {},
   "outputs": [
    {
     "name": "stdout",
     "output_type": "stream",
     "text": [
      "480\n",
      "480\n"
     ]
    }
   ],
   "source": [
    "data['ExpenditureGroup']= pd.cut(data.expenditure, [0.25,1,1.75,2.50,3.25,4.40]) \n",
    "# no need to sort the data frame.\n",
    "\n",
    "print(len(data))\n",
    "print(len(data['ExpenditureGroup']))"
   ]
  },
  {
   "cell_type": "code",
   "execution_count": 20,
   "metadata": {},
   "outputs": [
    {
     "data": {
      "text/plain": [
       "count             479\n",
       "unique              5\n",
       "top       (0.25, 1.0]\n",
       "freq              183\n",
       "Name: ExpenditureGroup, dtype: object"
      ]
     },
     "execution_count": 20,
     "metadata": {},
     "output_type": "execute_result"
    }
   ],
   "source": [
    "data['ExpenditureGroup']= data['ExpenditureGroup'].astype(\"category\")\n",
    "data['ExpenditureGroup'].describe()"
   ]
  },
  {
   "cell_type": "code",
   "execution_count": 21,
   "metadata": {},
   "outputs": [
    {
     "name": "stdout",
     "output_type": "stream",
     "text": [
      "(0.25, 1.0]    0.382046\n",
      "(1.0, 1.75]    0.227557\n",
      "(1.75, 2.5]    0.206681\n",
      "(2.5, 3.25]    0.098121\n",
      "(3.25, 4.4]    0.085595\n",
      "Name: ExpenditureGroup, dtype: float64\n"
     ]
    }
   ],
   "source": [
    "ExpenditureGroupP= data['ExpenditureGroup'].value_counts(sort= False, normalize= True) \n",
    "# value_counts() should make more sense now\n",
    "print(ExpenditureGroupP)"
   ]
  },
  {
   "cell_type": "code",
   "execution_count": 22,
   "metadata": {},
   "outputs": [
    {
     "data": {
      "image/png": "[encoded data removed]",
      "text/plain": [
       "<Figure size 432x288 with 1 Axes>"
      ]
     },
     "metadata": {
      "needs_background": "light"
     },
     "output_type": "display_data"
    }
   ],
   "source": [
    "seaborn.countplot(x= 'ExpenditureGroup', data= data)\n",
    "plt.xlabel('Expenditure categories')\n",
    "plt.title('Counts of rows for each Expenditure')\n",
    "plt.show()"
   ]
  },
  {
   "cell_type": "code",
   "execution_count": 23,
   "metadata": {},
   "outputs": [
    {
     "data": {
      "text/plain": [
       "Text(0.5,1,'Counts of rows for each Expenditure')"
      ]
     },
     "execution_count": 23,
     "metadata": {},
     "output_type": "execute_result"
    },
    {
     "data": {
      "image/png": "[encoded data removed]",
      "text/plain": [
       "<Figure size 432x288 with 1 Axes>"
      ]
     },
     "metadata": {
      "needs_background": "light"
     },
     "output_type": "display_data"
    }
   ],
   "source": [
    "seaborn.distplot(data['expenditure'].dropna(), kde= False)\n",
    "plt.xlabel('Expenditure quantitative values')\n",
    "plt.title('Counts of rows for each Expenditure')"
   ]
  },
  {
   "cell_type": "code",
   "execution_count": 24,
   "metadata": {},
   "outputs": [
    {
     "name": "stdout",
     "output_type": "stream",
     "text": [
      "Users from 0.0131 and to 94.0\n"
     ]
    },
    {
     "data": {
      "text/plain": [
       "count    480.000000\n",
       "mean      42.497078\n",
       "std       28.691072\n",
       "min        0.013100\n",
       "25%       14.375000\n",
       "50%       44.000000\n",
       "75%       68.625000\n",
       "max       94.000000\n",
       "Name: user, dtype: float64"
      ]
     },
     "execution_count": 24,
     "metadata": {},
     "output_type": "execute_result"
    }
   ],
   "source": [
    "print ('Users from '+ str(data['user'].min())+' and to '+ \n",
    "       str(data['user'].max()) )\n",
    "data['user'].describe()"
   ]
  },
  {
   "cell_type": "code",
   "execution_count": 25,
   "metadata": {},
   "outputs": [],
   "source": [
    "data['UserGroup']= pd.cut(data.user, [0.01,10,25,50,70,94]) "
   ]
  },
  {
   "cell_type": "code",
   "execution_count": 26,
   "metadata": {},
   "outputs": [
    {
     "data": {
      "text/plain": [
       "count              480\n",
       "unique               5\n",
       "top       (70.0, 94.0]\n",
       "freq               109\n",
       "Name: UserGroup, dtype: object"
      ]
     },
     "execution_count": 26,
     "metadata": {},
     "output_type": "execute_result"
    }
   ],
   "source": [
    "data['UserGroup']= data['UserGroup'].astype('category')\n",
    "data['UserGroup'].describe()"
   ]
  },
  {
   "cell_type": "code",
   "execution_count": 27,
   "metadata": {},
   "outputs": [
    {
     "name": "stdout",
     "output_type": "stream",
     "text": [
      "(0.01, 10.0]    0.216667\n",
      "(10.0, 25.0]    0.127083\n",
      "(25.0, 50.0]    0.220833\n",
      "(50.0, 70.0]    0.208333\n",
      "(70.0, 94.0]    0.227083\n",
      "Name: UserGroup, dtype: float64\n"
     ]
    }
   ],
   "source": [
    "UG= data['UserGroup'].value_counts(sort= False, normalize= True)\n",
    "print(UG)"
   ]
  },
  {
   "cell_type": "code",
   "execution_count": 28,
   "metadata": {},
   "outputs": [
    {
     "data": {
      "image/png": "[encoded data removed]",
      "text/plain": [
       "<Figure size 432x288 with 1 Axes>"
      ]
     },
     "metadata": {
      "needs_background": "light"
     },
     "output_type": "display_data"
    }
   ],
   "source": [
    "seaborn.countplot(x= 'UserGroup', data= data)\n",
    "plt.xlabel('User group')\n",
    "plt.title('Counts of rows for each User')\n",
    "plt.show()"
   ]
  },
  {
   "cell_type": "code",
   "execution_count": 57,
   "metadata": {},
   "outputs": [
    {
     "data": {
      "text/plain": [
       "<matplotlib.axes._subplots.AxesSubplot at 0x1eb041309e8>"
      ]
     },
     "execution_count": 57,
     "metadata": {},
     "output_type": "execute_result"
    },
    {
     "data": {
      "image/png": "[encoded data removed]",
      "text/plain": [
       "<Figure size 432x288 with 1 Axes>"
      ]
     },
     "metadata": {
      "needs_background": "light"
     },
     "output_type": "display_data"
    }
   ],
   "source": [
    "seaborn.regplot(x= \"expenditure\", y= \"user\", fit_reg= False, data= data)"
   ]
  },
  {
   "cell_type": "code",
   "execution_count": 30,
   "metadata": {},
   "outputs": [],
   "source": [
    "data2= data[data['year']>=2000]"
   ]
  },
  {
   "cell_type": "code",
   "execution_count": 31,
   "metadata": {},
   "outputs": [
    {
     "data": {
      "text/plain": [
       "<matplotlib.axes._subplots.AxesSubplot at 0x1eb034c2a58>"
      ]
     },
     "execution_count": 31,
     "metadata": {},
     "output_type": "execute_result"
    },
    {
     "data": {
      "image/png": "[encoded data removed]",
      "text/plain": [
       "<Figure size 432x288 with 1 Axes>"
      ]
     },
     "metadata": {
      "needs_background": "light"
     },
     "output_type": "display_data"
    }
   ],
   "source": [
    "seaborn.regplot(x= \"expenditure\", y= \"user\", fit_reg= False, data= data2)"
   ]
  },
  {
   "cell_type": "code",
   "execution_count": 58,
   "metadata": {},
   "outputs": [
    {
     "name": "stdout",
     "output_type": "stream",
     "text": [
      "(0.01, 10.0]    0.216667\n",
      "(10.0, 25.0]    0.127083\n",
      "(25.0, 50.0]    0.220833\n",
      "(50.0, 70.0]    0.208333\n",
      "(70.0, 94.0]    0.227083\n",
      "Name: UserGroup, dtype: float64\n"
     ]
    }
   ],
   "source": [
    "UG= data['UserGroup'].value_counts(sort= False, normalize= True)\n",
    "print(UG)"
   ]
  },
  {
   "cell_type": "code",
   "execution_count": 33,
   "metadata": {},
   "outputs": [],
   "source": [
    "def USER (row):\n",
    "    if row['user'] < 50 :\n",
    "        return 0\n",
    "    else:\n",
    "        return 1"
   ]
  },
  {
   "cell_type": "code",
   "execution_count": 34,
   "metadata": {},
   "outputs": [
    {
     "data": {
      "text/plain": [
       "1    210\n",
       "0    174\n",
       "Name: User, dtype: int64"
      ]
     },
     "execution_count": 34,
     "metadata": {},
     "output_type": "execute_result"
    }
   ],
   "source": [
    "data2['User']= data2.apply(lambda row : USER(row), axis= 1)\n",
    "# axis=1, tells python to apply this function to each row \n",
    "# Arbitrary functions can be applied along the axes of a DataFrame using the apply() method\n",
    "data2['User'].value_counts()"
   ]
  },
  {
   "cell_type": "code",
   "execution_count": 35,
   "metadata": {},
   "outputs": [
    {
     "data": {
      "image/png": "[encoded data removed]",
      "text/plain": [
       "<Figure size 360x360 with 1 Axes>"
      ]
     },
     "metadata": {
      "needs_background": "light"
     },
     "output_type": "display_data"
    }
   ],
   "source": [
    "seaborn.factorplot(x= 'ExpenditureGroup', y= 'User', data= data2, kind= \"bar\", ci=None)\n",
    "plt.xlabel('Expenditure per capita group')\n",
    "plt.ylabel('proportion user rate')\n",
    "plt.show()"
   ]
  },
  {
   "cell_type": "code",
   "execution_count": 64,
   "metadata": {},
   "outputs": [],
   "source": [
    "0.25,1,1.75,2.50,3.25,4.40\n",
    "def ExpenditureRangeGroup (row):\n",
    "    if row['expenditure'] > 0.25 and row['expenditure']<= 1.0 :\n",
    "        return 1\n",
    "    if row['expenditure'] > 1.0 and row['expenditure']<= 1.75 :\n",
    "        return 2\n",
    "    if row['expenditure'] > 1.75 and row['expenditure']<= 2.50 :\n",
    "        return 3\n",
    "    if row['expenditure'] > 2.50 and row['expenditure']<= 3.25 :\n",
    "        return 4\n",
    "    if row['expenditure'] > 3.25 and row['expenditure']<= 4.40 :\n",
    "        return 5"
   ]
  },
  {
   "cell_type": "code",
   "execution_count": 37,
   "metadata": {},
   "outputs": [],
   "source": [
    "data2['ExpenditureCat'] = data2.apply (lambda row: ExpenditureRangeGroup (row),axis=1)"
   ]
  },
  {
   "cell_type": "code",
   "execution_count": 38,
   "metadata": {},
   "outputs": [
    {
     "data": {
      "image/png": "[encoded data removed]",
      "text/plain": [
       "<Figure size 360x360 with 1 Axes>"
      ]
     },
     "metadata": {
      "needs_background": "light"
     },
     "output_type": "display_data"
    }
   ],
   "source": [
    "seaborn.factorplot(x= 'ExpenditureCat', y= 'User', data= data2, kind= \"bar\", ci=None)\n",
    "plt.xlabel('Expenditure per capita category: 1 the smallest to 5 the biggest')\n",
    "plt.ylabel('Proportion user')\n",
    "plt.show()"
   ]
  },
  {
   "cell_type": "code",
   "execution_count": 39,
   "metadata": {},
   "outputs": [],
   "source": [
    "import statsmodels.formula.api as smf\n",
    "import statsmodels.stats.multicomp as multi "
   ]
  },
  {
   "cell_type": "code",
   "execution_count": 40,
   "metadata": {},
   "outputs": [
    {
     "name": "stdout",
     "output_type": "stream",
     "text": [
      "     User  ExpenditureCat\n",
      "96      0             3.0\n",
      "97      0             3.0\n",
      "98      0             1.0\n",
      "99      0             1.0\n",
      "100     0             2.0\n",
      "101     0             4.0\n",
      "102     0             3.0\n",
      "103     0             3.0\n",
      "104     0             1.0\n",
      "105     0             5.0\n",
      "106     0             1.0\n",
      "107     0             4.0\n",
      "108     0             1.0\n",
      "109     0             1.0\n",
      "110     0             1.0\n",
      "111     0             3.0\n",
      "112     0             1.0\n",
      "113     0             1.0\n",
      "114     0             1.0\n",
      "115     0             2.0\n",
      "116     0             1.0\n",
      "117     0             2.0\n",
      "118     0             3.0\n",
      "119     0             1.0\n",
      "120     0             3.0\n",
      "121     0             3.0\n",
      "122     0             1.0\n",
      "123     0             1.0\n",
      "124     0             2.0\n",
      "125     0             4.0\n",
      "..    ...             ...\n",
      "450     1             1.0\n",
      "451     1             2.0\n",
      "452     1             1.0\n",
      "453     1             3.0\n",
      "454     1             5.0\n",
      "455     1             2.0\n",
      "456     1             4.0\n",
      "457     1             3.0\n",
      "458     1             1.0\n",
      "459     1             3.0\n",
      "460     1             3.0\n",
      "461     1             4.0\n",
      "462     1             3.0\n",
      "463     1             4.0\n",
      "464     1             2.0\n",
      "465     1             5.0\n",
      "466     1             2.0\n",
      "467     1             5.0\n",
      "468     1             1.0\n",
      "469     1             2.0\n",
      "470     1             1.0\n",
      "471     1             3.0\n",
      "472     1             1.0\n",
      "473     1             2.0\n",
      "474     1             1.0\n",
      "475     1             2.0\n",
      "476     1             2.0\n",
      "477     1             3.0\n",
      "478     1             5.0\n",
      "479     1             2.0\n",
      "\n",
      "[384 rows x 2 columns]\n"
     ]
    }
   ],
   "source": [
    "data3= data2[['User', 'ExpenditureCat']]\n",
    "print(data3)"
   ]
  },
  {
   "cell_type": "code",
   "execution_count": 41,
   "metadata": {},
   "outputs": [],
   "source": [
    "model1= smf.ols(formula='User ~ C(ExpenditureCat)', data=data3)"
   ]
  },
  {
   "cell_type": "code",
   "execution_count": 42,
   "metadata": {},
   "outputs": [],
   "source": [
    "results= model1.fit()"
   ]
  },
  {
   "cell_type": "code",
   "execution_count": 43,
   "metadata": {},
   "outputs": [
    {
     "name": "stdout",
     "output_type": "stream",
     "text": [
      "                            OLS Regression Results                            \n",
      "==============================================================================\n",
      "Dep. Variable:                   User   R-squared:                       0.147\n",
      "Model:                            OLS   Adj. R-squared:                  0.138\n",
      "Method:                 Least Squares   F-statistic:                     16.32\n",
      "Date:                Thu, 25 Jul 2019   Prob (F-statistic):           2.41e-12\n",
      "Time:                        11:25:37   Log-Likelihood:                -245.67\n",
      "No. Observations:                 383   AIC:                             501.3\n",
      "Df Residuals:                     378   BIC:                             521.1\n",
      "Df Model:                           4                                         \n",
      "Covariance Type:            nonrobust                                         \n",
      "============================================================================================\n",
      "                               coef    std err          t      P>|t|      [0.025      0.975]\n",
      "--------------------------------------------------------------------------------------------\n",
      "Intercept                    0.3359      0.040      8.310      0.000       0.256       0.415\n",
      "C(ExpenditureCat)[T.2.0]     0.1590      0.062      2.565      0.011       0.037       0.281\n",
      "C(ExpenditureCat)[T.3.0]     0.3564      0.066      5.388      0.000       0.226       0.487\n",
      "C(ExpenditureCat)[T.4.0]     0.5020      0.086      5.829      0.000       0.333       0.671\n",
      "C(ExpenditureCat)[T.5.0]     0.4891      0.084      5.853      0.000       0.325       0.653\n",
      "==============================================================================\n",
      "Omnibus:                     1162.348   Durbin-Watson:                   1.250\n",
      "Prob(Omnibus):                  0.000   Jarque-Bera (JB):               30.240\n",
      "Skew:                          -0.100   Prob(JB):                     2.71e-07\n",
      "Kurtosis:                       1.638   Cond. No.                         4.92\n",
      "==============================================================================\n",
      "\n",
      "Warnings:\n",
      "[1] Standard Errors assume that the covariance matrix of the errors is correctly specified.\n"
     ]
    }
   ],
   "source": [
    "print(results.summary())"
   ]
  },
  {
   "cell_type": "code",
   "execution_count": 65,
   "metadata": {},
   "outputs": [
    {
     "name": "stdout",
     "output_type": "stream",
     "text": [
      "Multiple Comparison of Means - Tukey HSD,FWER=0.05\n",
      "============================================\n",
      "group1 group2 meandiff  lower  upper  reject\n",
      "--------------------------------------------\n",
      " 1.0    2.0    0.159   -0.0185 0.3365 False \n",
      " 1.0    3.0    0.3564   0.1669 0.5459  True \n",
      " 1.0    4.0    0.502    0.2553 0.7486  True \n",
      " 1.0    5.0    0.4891   0.2498 0.7285  True \n",
      " 1.0    nan   -0.3359  -1.6659 0.9942 False \n",
      " 2.0    3.0    0.1975  -0.0041 0.399  False \n",
      " 2.0    4.0    0.343    0.087  0.599   True \n",
      " 2.0    5.0    0.3302   0.0812 0.5791  True \n",
      " 2.0    nan   -0.4948  -1.8267 0.837  False \n",
      " 3.0    4.0    0.1455   -0.119  0.41  False \n",
      " 3.0    5.0    0.1327   -0.125 0.3904 False \n",
      " 3.0    nan   -0.6923  -2.0258 0.6412 False \n",
      " 4.0    5.0   -0.0128  -0.3151 0.2894 False \n",
      " 4.0    nan   -0.8378  -2.1806 0.505  False \n",
      " 5.0    nan    -0.825  -2.1665 0.5165 False \n",
      "--------------------------------------------\n"
     ]
    }
   ],
   "source": [
    "mc1 = multi.MultiComparison(data3['User'], data3['ExpenditureCat'])\n",
    "res1 = mc1.tukeyhsd()\n",
    "print(res1.summary())"
   ]
  },
  {
   "cell_type": "code",
   "execution_count": 45,
   "metadata": {},
   "outputs": [],
   "source": [
    "import scipy.stats"
   ]
  },
  {
   "cell_type": "code",
   "execution_count": 46,
   "metadata": {},
   "outputs": [
    {
     "data": {
      "text/plain": [
       "<matplotlib.axes._subplots.AxesSubplot at 0x1eb03c56be0>"
      ]
     },
     "execution_count": 46,
     "metadata": {},
     "output_type": "execute_result"
    },
    {
     "data": {
      "image/png": "[encoded data removed]",
      "text/plain": [
       "<Figure size 432x288 with 1 Axes>"
      ]
     },
     "metadata": {
      "needs_background": "light"
     },
     "output_type": "display_data"
    }
   ],
   "source": [
    "seaborn.regplot(x= \"expenditure\", y= \"user\", fit_reg= False, data= data2)"
   ]
  },
  {
   "cell_type": "code",
   "execution_count": 66,
   "metadata": {},
   "outputs": [
    {
     "name": "stdout",
     "output_type": "stream",
     "text": [
      "association between Expenditure and Users\n",
      "(0.48985762338515526, 1.434666336110515e-24)\n"
     ]
    }
   ],
   "source": [
    "print('association between Expenditure and Users')\n",
    "print(scipy.stats.pearsonr(data2['expenditure'], data2['user']))"
   ]
  },
  {
   "cell_type": "code",
   "execution_count": null,
   "metadata": {},
   "outputs": [],
   "source": []
  },
  {
   "cell_type": "code",
   "execution_count": null,
   "metadata": {},
   "outputs": [],
   "source": []
  },
  {
   "cell_type": "code",
   "execution_count": null,
   "metadata": {},
   "outputs": [],
   "source": []
  },
  {
   "cell_type": "code",
   "execution_count": null,
   "metadata": {},
   "outputs": [],
   "source": []
  },
  {
   "cell_type": "code",
   "execution_count": null,
   "metadata": {},
   "outputs": [],
   "source": []
  }
 ],
 "metadata": {
  "kernelspec": {
   "display_name": "Python 3",
   "language": "python",
   "name": "python3"
  },
  "language_info": {
   "codemirror_mode": {
    "name": "ipython",
    "version": 3
   },
   "file_extension": ".py",
   "mimetype": "text/x-python",
   "name": "python",
   "nbconvert_exporter": "python",
   "pygments_lexer": "ipython3",
   "version": "3.7.0"
  }
 },
 "nbformat": 4,
 "nbformat_minor": 2
}
